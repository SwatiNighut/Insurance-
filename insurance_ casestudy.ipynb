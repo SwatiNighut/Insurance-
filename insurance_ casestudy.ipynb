{
 "cells": [
  {
   "cell_type": "markdown",
   "id": "91ddeccb",
   "metadata": {},
   "source": [
    "import all the necessary libraries"
   ]
  },
  {
   "cell_type": "code",
   "execution_count": 1,
   "id": "10a721bc",
   "metadata": {},
   "outputs": [],
   "source": [
    "import numpy as np\n",
    "import pandas as pd\n",
    "import matplotlib.pyplot as plt\n",
    "import seaborn as sns\n",
    "import warnings\n",
    "warnings.filterwarnings(\"ignore\")"
   ]
  },
  {
   "cell_type": "code",
   "execution_count": 2,
   "id": "dbcda63d",
   "metadata": {},
   "outputs": [],
   "source": [
    "from sklearn.compose import ColumnTransformer\n",
    "from sklearn.preprocessing import OneHotEncoder\n",
    "from sklearn.model_selection import train_test_split\n",
    "from sklearn.linear_model import LinearRegression\n",
    "from sklearn.neighbors import KNeighborsRegressor\n",
    "from sklearn.svm import SVR\n",
    "from sklearn.tree import DecisionTreeRegressor\n",
    "from sklearn.ensemble import RandomForestRegressor\n",
    "\n",
    "from sklearn.metrics import mean_absolute_error as mae, mean_squared_error as mse , r2_score\n"
   ]
  },
  {
   "cell_type": "code",
   "execution_count": 3,
   "id": "3cdd2a7d",
   "metadata": {},
   "outputs": [
    {
     "data": {
      "text/html": [
       "<div>\n",
       "<style scoped>\n",
       "    .dataframe tbody tr th:only-of-type {\n",
       "        vertical-align: middle;\n",
       "    }\n",
       "\n",
       "    .dataframe tbody tr th {\n",
       "        vertical-align: top;\n",
       "    }\n",
       "\n",
       "    .dataframe thead th {\n",
       "        text-align: right;\n",
       "    }\n",
       "</style>\n",
       "<table border=\"1\" class=\"dataframe\">\n",
       "  <thead>\n",
       "    <tr style=\"text-align: right;\">\n",
       "      <th></th>\n",
       "      <th>age</th>\n",
       "      <th>sex</th>\n",
       "      <th>bmi</th>\n",
       "      <th>children</th>\n",
       "      <th>smoker</th>\n",
       "      <th>region</th>\n",
       "      <th>charges</th>\n",
       "    </tr>\n",
       "  </thead>\n",
       "  <tbody>\n",
       "    <tr>\n",
       "      <th>0</th>\n",
       "      <td>19</td>\n",
       "      <td>female</td>\n",
       "      <td>27.900</td>\n",
       "      <td>0</td>\n",
       "      <td>yes</td>\n",
       "      <td>southwest</td>\n",
       "      <td>16884.92400</td>\n",
       "    </tr>\n",
       "    <tr>\n",
       "      <th>1</th>\n",
       "      <td>18</td>\n",
       "      <td>male</td>\n",
       "      <td>33.770</td>\n",
       "      <td>1</td>\n",
       "      <td>no</td>\n",
       "      <td>southeast</td>\n",
       "      <td>1725.55230</td>\n",
       "    </tr>\n",
       "    <tr>\n",
       "      <th>2</th>\n",
       "      <td>28</td>\n",
       "      <td>male</td>\n",
       "      <td>33.000</td>\n",
       "      <td>3</td>\n",
       "      <td>no</td>\n",
       "      <td>southeast</td>\n",
       "      <td>4449.46200</td>\n",
       "    </tr>\n",
       "    <tr>\n",
       "      <th>3</th>\n",
       "      <td>33</td>\n",
       "      <td>male</td>\n",
       "      <td>22.705</td>\n",
       "      <td>0</td>\n",
       "      <td>no</td>\n",
       "      <td>northwest</td>\n",
       "      <td>21984.47061</td>\n",
       "    </tr>\n",
       "    <tr>\n",
       "      <th>4</th>\n",
       "      <td>32</td>\n",
       "      <td>male</td>\n",
       "      <td>28.880</td>\n",
       "      <td>0</td>\n",
       "      <td>no</td>\n",
       "      <td>northwest</td>\n",
       "      <td>3866.85520</td>\n",
       "    </tr>\n",
       "  </tbody>\n",
       "</table>\n",
       "</div>"
      ],
      "text/plain": [
       "   age     sex     bmi  children smoker     region      charges\n",
       "0   19  female  27.900         0    yes  southwest  16884.92400\n",
       "1   18    male  33.770         1     no  southeast   1725.55230\n",
       "2   28    male  33.000         3     no  southeast   4449.46200\n",
       "3   33    male  22.705         0     no  northwest  21984.47061\n",
       "4   32    male  28.880         0     no  northwest   3866.85520"
      ]
     },
     "execution_count": 3,
     "metadata": {},
     "output_type": "execute_result"
    }
   ],
   "source": [
    "# get the data\n",
    "df= pd.read_csv(\"insurance.csv\")\n",
    "df.head()"
   ]
  },
  {
   "cell_type": "markdown",
   "id": "312b7ddb",
   "metadata": {},
   "source": [
    "# EDA"
   ]
  },
  {
   "cell_type": "code",
   "execution_count": 4,
   "id": "d7668efa",
   "metadata": {},
   "outputs": [
    {
     "name": "stdout",
     "output_type": "stream",
     "text": [
      "<class 'pandas.core.frame.DataFrame'>\n",
      "RangeIndex: 1338 entries, 0 to 1337\n",
      "Data columns (total 7 columns):\n",
      " #   Column    Non-Null Count  Dtype  \n",
      "---  ------    --------------  -----  \n",
      " 0   age       1338 non-null   int64  \n",
      " 1   sex       1338 non-null   object \n",
      " 2   bmi       1338 non-null   float64\n",
      " 3   children  1338 non-null   int64  \n",
      " 4   smoker    1338 non-null   object \n",
      " 5   region    1338 non-null   object \n",
      " 6   charges   1338 non-null   float64\n",
      "dtypes: float64(2), int64(2), object(3)\n",
      "memory usage: 73.3+ KB\n"
     ]
    }
   ],
   "source": [
    "df.info()"
   ]
  },
  {
   "cell_type": "code",
   "execution_count": 5,
   "id": "5f3e5202",
   "metadata": {},
   "outputs": [
    {
     "data": {
      "text/plain": [
       "age         0\n",
       "sex         0\n",
       "bmi         0\n",
       "children    0\n",
       "smoker      0\n",
       "region      0\n",
       "charges     0\n",
       "dtype: int64"
      ]
     },
     "execution_count": 5,
     "metadata": {},
     "output_type": "execute_result"
    }
   ],
   "source": [
    "df.isna().sum()"
   ]
  },
  {
   "cell_type": "code",
   "execution_count": 6,
   "id": "8267f6a9",
   "metadata": {},
   "outputs": [
    {
     "data": {
      "text/html": [
       "<div>\n",
       "<style scoped>\n",
       "    .dataframe tbody tr th:only-of-type {\n",
       "        vertical-align: middle;\n",
       "    }\n",
       "\n",
       "    .dataframe tbody tr th {\n",
       "        vertical-align: top;\n",
       "    }\n",
       "\n",
       "    .dataframe thead th {\n",
       "        text-align: right;\n",
       "    }\n",
       "</style>\n",
       "<table border=\"1\" class=\"dataframe\">\n",
       "  <thead>\n",
       "    <tr style=\"text-align: right;\">\n",
       "      <th></th>\n",
       "      <th>age</th>\n",
       "      <th>bmi</th>\n",
       "      <th>children</th>\n",
       "      <th>charges</th>\n",
       "    </tr>\n",
       "  </thead>\n",
       "  <tbody>\n",
       "    <tr>\n",
       "      <th>count</th>\n",
       "      <td>1338.000000</td>\n",
       "      <td>1338.000000</td>\n",
       "      <td>1338.000000</td>\n",
       "      <td>1338.000000</td>\n",
       "    </tr>\n",
       "    <tr>\n",
       "      <th>mean</th>\n",
       "      <td>39.207025</td>\n",
       "      <td>30.663397</td>\n",
       "      <td>1.094918</td>\n",
       "      <td>13270.422265</td>\n",
       "    </tr>\n",
       "    <tr>\n",
       "      <th>std</th>\n",
       "      <td>14.049960</td>\n",
       "      <td>6.098187</td>\n",
       "      <td>1.205493</td>\n",
       "      <td>12110.011237</td>\n",
       "    </tr>\n",
       "    <tr>\n",
       "      <th>min</th>\n",
       "      <td>18.000000</td>\n",
       "      <td>15.960000</td>\n",
       "      <td>0.000000</td>\n",
       "      <td>1121.873900</td>\n",
       "    </tr>\n",
       "    <tr>\n",
       "      <th>25%</th>\n",
       "      <td>27.000000</td>\n",
       "      <td>26.296250</td>\n",
       "      <td>0.000000</td>\n",
       "      <td>4740.287150</td>\n",
       "    </tr>\n",
       "    <tr>\n",
       "      <th>50%</th>\n",
       "      <td>39.000000</td>\n",
       "      <td>30.400000</td>\n",
       "      <td>1.000000</td>\n",
       "      <td>9382.033000</td>\n",
       "    </tr>\n",
       "    <tr>\n",
       "      <th>75%</th>\n",
       "      <td>51.000000</td>\n",
       "      <td>34.693750</td>\n",
       "      <td>2.000000</td>\n",
       "      <td>16639.912515</td>\n",
       "    </tr>\n",
       "    <tr>\n",
       "      <th>max</th>\n",
       "      <td>64.000000</td>\n",
       "      <td>53.130000</td>\n",
       "      <td>5.000000</td>\n",
       "      <td>63770.428010</td>\n",
       "    </tr>\n",
       "  </tbody>\n",
       "</table>\n",
       "</div>"
      ],
      "text/plain": [
       "               age          bmi     children       charges\n",
       "count  1338.000000  1338.000000  1338.000000   1338.000000\n",
       "mean     39.207025    30.663397     1.094918  13270.422265\n",
       "std      14.049960     6.098187     1.205493  12110.011237\n",
       "min      18.000000    15.960000     0.000000   1121.873900\n",
       "25%      27.000000    26.296250     0.000000   4740.287150\n",
       "50%      39.000000    30.400000     1.000000   9382.033000\n",
       "75%      51.000000    34.693750     2.000000  16639.912515\n",
       "max      64.000000    53.130000     5.000000  63770.428010"
      ]
     },
     "execution_count": 6,
     "metadata": {},
     "output_type": "execute_result"
    }
   ],
   "source": [
    "df.describe()"
   ]
  },
  {
   "cell_type": "code",
   "execution_count": 7,
   "id": "b138f2fc",
   "metadata": {},
   "outputs": [
    {
     "data": {
      "image/png": "[encoded data removed]",
      "text/plain": [
       "<Figure size 432x288 with 1 Axes>"
      ]
     },
     "metadata": {
      "needs_background": "light"
     },
     "output_type": "display_data"
    }
   ],
   "source": [
    "sns.distplot(df[\"age\"],kde=True,color=\"pink\")\n",
    "plt.show()"
   ]
  },
  {
   "cell_type": "markdown",
   "id": "41cc8374",
   "metadata": {},
   "source": [
    "distplot shows that maximum number of people are near the age of 20."
   ]
  },
  {
   "cell_type": "code",
   "execution_count": 8,
   "id": "48291346",
   "metadata": {},
   "outputs": [
    {
     "data": {
      "text/plain": [
       "18    69\n",
       "19    68\n",
       "50    29\n",
       "51    29\n",
       "47    29\n",
       "46    29\n",
       "45    29\n",
       "20    29\n",
       "48    29\n",
       "52    29\n",
       "22    28\n",
       "49    28\n",
       "54    28\n",
       "53    28\n",
       "21    28\n",
       "26    28\n",
       "24    28\n",
       "25    28\n",
       "28    28\n",
       "27    28\n",
       "23    28\n",
       "43    27\n",
       "29    27\n",
       "30    27\n",
       "41    27\n",
       "42    27\n",
       "44    27\n",
       "31    27\n",
       "40    27\n",
       "32    26\n",
       "33    26\n",
       "56    26\n",
       "34    26\n",
       "55    26\n",
       "57    26\n",
       "37    25\n",
       "59    25\n",
       "58    25\n",
       "36    25\n",
       "38    25\n",
       "35    25\n",
       "39    25\n",
       "61    23\n",
       "60    23\n",
       "63    23\n",
       "62    23\n",
       "64    22\n",
       "Name: age, dtype: int64"
      ]
     },
     "execution_count": 8,
     "metadata": {},
     "output_type": "execute_result"
    }
   ],
   "source": [
    "df[\"age\"].value_counts()"
   ]
  },
  {
   "cell_type": "markdown",
   "id": "233ec31b",
   "metadata": {},
   "source": [
    "We cannot simply use the age column for visualization instead of that divide the age between the gruops make it easier for better visualisation."
   ]
  },
  {
   "cell_type": "code",
   "execution_count": 9,
   "id": "b1b6c3bc",
   "metadata": {},
   "outputs": [],
   "source": [
    "def age_new(age):\n",
    "    if age > 60 :\n",
    "         return ('60+')\n",
    "    elif age > 50:\n",
    "        return ('60-50')\n",
    "    elif age > 40:\n",
    "        return ('50-40')\n",
    "    elif age > 30:\n",
    "        return ('40-30')\n",
    "    elif age >=18 :\n",
    "        return ('18-30')\n",
    "    \n",
    "    else : \n",
    "        return None\n",
    "    "
   ]
  },
  {
   "cell_type": "code",
   "execution_count": 10,
   "id": "dfc16b9e",
   "metadata": {},
   "outputs": [],
   "source": [
    "df[\"age_gr\"]= df[\"age\"].apply(age_new)"
   ]
  },
  {
   "cell_type": "code",
   "execution_count": 11,
   "id": "b6bb90a2",
   "metadata": {},
   "outputs": [
    {
     "data": {
      "text/plain": [
       "18-30    444\n",
       "50-40    281\n",
       "60-50    265\n",
       "40-30    257\n",
       "60+       91\n",
       "Name: age_gr, dtype: int64"
      ]
     },
     "execution_count": 11,
     "metadata": {},
     "output_type": "execute_result"
    }
   ],
   "source": [
    "df[\"age_gr\"].value_counts()"
   ]
  },
  {
   "cell_type": "markdown",
   "id": "956688ef",
   "metadata": {},
   "source": [
    "sns.countplot(data= df,x= \"age_gr\",hue= \"sex\",palette= \"Blues\")"
   ]
  },
  {
   "cell_type": "markdown",
   "id": "e8f85b1c",
   "metadata": {},
   "source": [
    "The countplot of age with sex shows the data have same counts of male and female"
   ]
  },
  {
   "cell_type": "code",
   "execution_count": null,
   "id": "041681c8",
   "metadata": {},
   "outputs": [],
   "source": []
  },
  {
   "cell_type": "markdown",
   "id": "f156bb0d",
   "metadata": {},
   "source": [
    "same like age, charges do have many values make us difficult to visualize on plot properly so divide the charges to gruop and made the function with python."
   ]
  },
  {
   "cell_type": "code",
   "execution_count": 12,
   "id": "02fdb231",
   "metadata": {},
   "outputs": [],
   "source": [
    "def charges_new(charges):\n",
    "    if charges>40000:\n",
    "        return(\"more than 40000\")\n",
    "    elif charges >20000:\n",
    "        return(\"40000-20000\")\n",
    "    elif charges >10000:\n",
    "        return (\"20000-10000\")\n",
    "    elif charges >5000:\n",
    "        return (\"10000-5000\")\n",
    "    elif charges >2000:\n",
    "        return (\"5000-2000\")\n",
    "    elif charges< 2000 :\n",
    "        return(\"below 2000\")\n",
    "    else:\n",
    "        return None"
   ]
  },
  {
   "cell_type": "code",
   "execution_count": 13,
   "id": "8849d690",
   "metadata": {},
   "outputs": [],
   "source": [
    "df[\"charges_new\"]= df[\"charges\"].apply(charges_new)"
   ]
  },
  {
   "cell_type": "code",
   "execution_count": 14,
   "id": "4c8754b4",
   "metadata": {},
   "outputs": [
    {
     "data": {
      "text/plain": [
       "20000-10000        353\n",
       "10000-5000         353\n",
       "5000-2000          267\n",
       "40000-20000        194\n",
       "below 2000          92\n",
       "more than 40000     79\n",
       "Name: charges_new, dtype: int64"
      ]
     },
     "execution_count": 14,
     "metadata": {},
     "output_type": "execute_result"
    }
   ],
   "source": [
    "df[\"charges_new\"].value_counts()"
   ]
  },
  {
   "cell_type": "code",
   "execution_count": 15,
   "id": "957f2674",
   "metadata": {},
   "outputs": [
    {
     "data": {
      "text/plain": [
       "<AxesSubplot:xlabel='smoker', ylabel='count'>"
      ]
     },
     "execution_count": 15,
     "metadata": {},
     "output_type": "execute_result"
    },
    {
     "data": {
      "image/png": "[encoded data removed]",
      "text/plain": [
       "<Figure size 432x288 with 1 Axes>"
      ]
     },
     "metadata": {
      "needs_background": "light"
     },
     "output_type": "display_data"
    }
   ],
   "source": [
    "sns.countplot(data= df,x= \"smoker\",hue= \"charges_new\",palette=\"winter\")"
   ]
  },
  {
   "cell_type": "markdown",
   "id": "2c1531fb",
   "metadata": {},
   "source": [
    "from countplot we can guess that smoker will have to pay more charges as compare to non smoker"
   ]
  },
  {
   "cell_type": "code",
   "execution_count": 16,
   "id": "bbdab863",
   "metadata": {},
   "outputs": [
    {
     "data": {
      "image/png": "[encoded data removed]",
      "text/plain": [
       "<Figure size 432x288 with 1 Axes>"
      ]
     },
     "metadata": {
      "needs_background": "light"
     },
     "output_type": "display_data"
    }
   ],
   "source": [
    "df[\"region\"].value_counts().plot(kind=\"bar\",color=\"purple\")\n",
    "plt.title(\"Bar plot for region\")\n",
    "plt.xlabel(\"region\")\n",
    "plt.ylabel(\"count\")\n",
    "plt.show()"
   ]
  },
  {
   "cell_type": "markdown",
   "id": "c04e9221",
   "metadata": {},
   "source": [
    "The data have equal values for all the region."
   ]
  },
  {
   "cell_type": "code",
   "execution_count": 17,
   "id": "8533adcc",
   "metadata": {},
   "outputs": [
    {
     "data": {
      "text/plain": [
       "<AxesSubplot:xlabel='region', ylabel='count'>"
      ]
     },
     "execution_count": 17,
     "metadata": {},
     "output_type": "execute_result"
    },
    {
     "data": {
      "image/png": "[encoded data removed]",
      "text/plain": [
       "<Figure size 432x288 with 1 Axes>"
      ]
     },
     "metadata": {
      "needs_background": "light"
     },
     "output_type": "display_data"
    }
   ],
   "source": [
    "sns.countplot(data= df,x= \"region\",hue= \"charges_new\",palette=\"Oranges\")"
   ]
  },
  {
   "cell_type": "code",
   "execution_count": 18,
   "id": "393c309a",
   "metadata": {},
   "outputs": [
    {
     "data": {
      "text/plain": [
       "[]"
      ]
     },
     "execution_count": 18,
     "metadata": {},
     "output_type": "execute_result"
    },
    {
     "data": {
      "image/png": "[encoded data removed]",
      "text/plain": [
       "<Figure size 432x288 with 1 Axes>"
      ]
     },
     "metadata": {
      "needs_background": "light"
     },
     "output_type": "display_data"
    }
   ],
   "source": [
    "sns.scatterplot(data= df,x= \"age\",y= \"bmi\",hue=\"charges_new\")\n",
    "plt.plot()"
   ]
  },
  {
   "cell_type": "code",
   "execution_count": 19,
   "id": "b0464b88",
   "metadata": {},
   "outputs": [
    {
     "data": {
      "image/png": "[encoded data removed]",
      "text/plain": [
       "<Figure size 432x288 with 1 Axes>"
      ]
     },
     "metadata": {
      "needs_background": "light"
     },
     "output_type": "display_data"
    }
   ],
   "source": [
    "sns.distplot(df[\"children\"])\n",
    "plt.show()"
   ]
  },
  {
   "cell_type": "code",
   "execution_count": 20,
   "id": "94f9c1dc",
   "metadata": {},
   "outputs": [
    {
     "data": {
      "text/plain": [
       "0    574\n",
       "1    324\n",
       "2    240\n",
       "3    157\n",
       "4     25\n",
       "5     18\n",
       "Name: children, dtype: int64"
      ]
     },
     "execution_count": 20,
     "metadata": {},
     "output_type": "execute_result"
    }
   ],
   "source": [
    "df.children.value_counts()"
   ]
  },
  {
   "cell_type": "markdown",
   "id": "8ef7b885",
   "metadata": {},
   "source": [
    "number of people are more with no child"
   ]
  },
  {
   "cell_type": "code",
   "execution_count": 21,
   "id": "0a2af3e8",
   "metadata": {},
   "outputs": [
    {
     "data": {
      "text/plain": [
       "<AxesSubplot:xlabel='children', ylabel='count'>"
      ]
     },
     "execution_count": 21,
     "metadata": {},
     "output_type": "execute_result"
    },
    {
     "data": {
      "image/png": "[encoded data removed]",
      "text/plain": [
       "<Figure size 432x288 with 1 Axes>"
      ]
     },
     "metadata": {
      "needs_background": "light"
     },
     "output_type": "display_data"
    }
   ],
   "source": [
    "sns.countplot(data= df,x= \"children\",hue= \"charges_new\",palette=\"plasma\")"
   ]
  },
  {
   "cell_type": "markdown",
   "id": "f5e6ccba",
   "metadata": {},
   "source": [
    "# Handling the Outliers"
   ]
  },
  {
   "cell_type": "code",
   "execution_count": 22,
   "id": "09509e3e",
   "metadata": {},
   "outputs": [
    {
     "data": {
      "text/plain": [
       "<AxesSubplot:xlabel='age_gr', ylabel='bmi'>"
      ]
     },
     "execution_count": 22,
     "metadata": {},
     "output_type": "execute_result"
    },
    {
     "data": {
      "image/png": "[encoded data removed]",
      "text/plain": [
       "<Figure size 432x288 with 1 Axes>"
      ]
     },
     "metadata": {
      "needs_background": "light"
     },
     "output_type": "display_data"
    }
   ],
   "source": [
    "sns.boxplot(data= df, x=\"age_gr\",y= \"bmi\")"
   ]
  },
  {
   "cell_type": "code",
   "execution_count": 23,
   "id": "21e11eeb",
   "metadata": {},
   "outputs": [
    {
     "data": {
      "text/html": [
       "<div>\n",
       "<style scoped>\n",
       "    .dataframe tbody tr th:only-of-type {\n",
       "        vertical-align: middle;\n",
       "    }\n",
       "\n",
       "    .dataframe tbody tr th {\n",
       "        vertical-align: top;\n",
       "    }\n",
       "\n",
       "    .dataframe thead th {\n",
       "        text-align: right;\n",
       "    }\n",
       "</style>\n",
       "<table border=\"1\" class=\"dataframe\">\n",
       "  <thead>\n",
       "    <tr style=\"text-align: right;\">\n",
       "      <th></th>\n",
       "      <th>age</th>\n",
       "      <th>sex</th>\n",
       "      <th>bmi</th>\n",
       "      <th>children</th>\n",
       "      <th>smoker</th>\n",
       "      <th>region</th>\n",
       "      <th>charges</th>\n",
       "      <th>age_gr</th>\n",
       "      <th>charges_new</th>\n",
       "    </tr>\n",
       "  </thead>\n",
       "  <tbody>\n",
       "    <tr>\n",
       "      <th>941</th>\n",
       "      <td>50</td>\n",
       "      <td>female</td>\n",
       "      <td>46.09</td>\n",
       "      <td>1</td>\n",
       "      <td>no</td>\n",
       "      <td>southeast</td>\n",
       "      <td>9549.5651</td>\n",
       "      <td>50-40</td>\n",
       "      <td>10000-5000</td>\n",
       "    </tr>\n",
       "  </tbody>\n",
       "</table>\n",
       "</div>"
      ],
      "text/plain": [
       "     age     sex    bmi  children smoker     region    charges age_gr  \\\n",
       "941   50  female  46.09         1     no  southeast  9549.5651  50-40   \n",
       "\n",
       "    charges_new  \n",
       "941  10000-5000  "
      ]
     },
     "execution_count": 23,
     "metadata": {},
     "output_type": "execute_result"
    }
   ],
   "source": [
    "df[(df[\"age\"]==50) & (df[\"bmi\"]>45)]"
   ]
  },
  {
   "cell_type": "code",
   "execution_count": 24,
   "id": "76df9ce8",
   "metadata": {},
   "outputs": [],
   "source": [
    "df.drop([1317,1047,847,454,660,860,582,292,930,1131,549,286,401,1024,941],inplace= True)"
   ]
  },
  {
   "cell_type": "code",
   "execution_count": 25,
   "id": "68a7fbef",
   "metadata": {},
   "outputs": [
    {
     "data": {
      "text/plain": [
       "<AxesSubplot:xlabel='age_gr', ylabel='bmi'>"
      ]
     },
     "execution_count": 25,
     "metadata": {},
     "output_type": "execute_result"
    },
    {
     "data": {
      "image/png": "[encoded data removed]",
      "text/plain": [
       "<Figure size 432x288 with 1 Axes>"
      ]
     },
     "metadata": {
      "needs_background": "light"
     },
     "output_type": "display_data"
    }
   ],
   "source": [
    "sns.boxplot(data= df, x=\"age_gr\",y= \"bmi\")"
   ]
  },
  {
   "cell_type": "code",
   "execution_count": 26,
   "id": "066b0abd",
   "metadata": {},
   "outputs": [
    {
     "data": {
      "text/html": [
       "<div>\n",
       "<style scoped>\n",
       "    .dataframe tbody tr th:only-of-type {\n",
       "        vertical-align: middle;\n",
       "    }\n",
       "\n",
       "    .dataframe tbody tr th {\n",
       "        vertical-align: top;\n",
       "    }\n",
       "\n",
       "    .dataframe thead th {\n",
       "        text-align: right;\n",
       "    }\n",
       "</style>\n",
       "<table border=\"1\" class=\"dataframe\">\n",
       "  <thead>\n",
       "    <tr style=\"text-align: right;\">\n",
       "      <th></th>\n",
       "      <th>age</th>\n",
       "      <th>sex</th>\n",
       "      <th>bmi</th>\n",
       "      <th>children</th>\n",
       "      <th>smoker</th>\n",
       "      <th>region</th>\n",
       "      <th>charges</th>\n",
       "      <th>age_gr</th>\n",
       "      <th>charges_new</th>\n",
       "    </tr>\n",
       "  </thead>\n",
       "  <tbody>\n",
       "    <tr>\n",
       "      <th>0</th>\n",
       "      <td>19</td>\n",
       "      <td>female</td>\n",
       "      <td>27.900</td>\n",
       "      <td>0</td>\n",
       "      <td>yes</td>\n",
       "      <td>southwest</td>\n",
       "      <td>16884.92400</td>\n",
       "      <td>18-30</td>\n",
       "      <td>20000-10000</td>\n",
       "    </tr>\n",
       "    <tr>\n",
       "      <th>1</th>\n",
       "      <td>18</td>\n",
       "      <td>male</td>\n",
       "      <td>33.770</td>\n",
       "      <td>1</td>\n",
       "      <td>no</td>\n",
       "      <td>southeast</td>\n",
       "      <td>1725.55230</td>\n",
       "      <td>18-30</td>\n",
       "      <td>below 2000</td>\n",
       "    </tr>\n",
       "    <tr>\n",
       "      <th>2</th>\n",
       "      <td>28</td>\n",
       "      <td>male</td>\n",
       "      <td>33.000</td>\n",
       "      <td>3</td>\n",
       "      <td>no</td>\n",
       "      <td>southeast</td>\n",
       "      <td>4449.46200</td>\n",
       "      <td>18-30</td>\n",
       "      <td>5000-2000</td>\n",
       "    </tr>\n",
       "    <tr>\n",
       "      <th>3</th>\n",
       "      <td>33</td>\n",
       "      <td>male</td>\n",
       "      <td>22.705</td>\n",
       "      <td>0</td>\n",
       "      <td>no</td>\n",
       "      <td>northwest</td>\n",
       "      <td>21984.47061</td>\n",
       "      <td>40-30</td>\n",
       "      <td>40000-20000</td>\n",
       "    </tr>\n",
       "    <tr>\n",
       "      <th>4</th>\n",
       "      <td>32</td>\n",
       "      <td>male</td>\n",
       "      <td>28.880</td>\n",
       "      <td>0</td>\n",
       "      <td>no</td>\n",
       "      <td>northwest</td>\n",
       "      <td>3866.85520</td>\n",
       "      <td>40-30</td>\n",
       "      <td>5000-2000</td>\n",
       "    </tr>\n",
       "  </tbody>\n",
       "</table>\n",
       "</div>"
      ],
      "text/plain": [
       "   age     sex     bmi  children smoker     region      charges age_gr  \\\n",
       "0   19  female  27.900         0    yes  southwest  16884.92400  18-30   \n",
       "1   18    male  33.770         1     no  southeast   1725.55230  18-30   \n",
       "2   28    male  33.000         3     no  southeast   4449.46200  18-30   \n",
       "3   33    male  22.705         0     no  northwest  21984.47061  40-30   \n",
       "4   32    male  28.880         0     no  northwest   3866.85520  40-30   \n",
       "\n",
       "   charges_new  \n",
       "0  20000-10000  \n",
       "1   below 2000  \n",
       "2    5000-2000  \n",
       "3  40000-20000  \n",
       "4    5000-2000  "
      ]
     },
     "execution_count": 26,
     "metadata": {},
     "output_type": "execute_result"
    }
   ],
   "source": [
    "df.head()"
   ]
  },
  {
   "cell_type": "code",
   "execution_count": 27,
   "id": "368a9805",
   "metadata": {},
   "outputs": [],
   "source": [
    "df.drop([\"age_gr\",\"charges_new\"],axis=1 ,inplace =True)"
   ]
  },
  {
   "cell_type": "code",
   "execution_count": 28,
   "id": "0515f9d7",
   "metadata": {},
   "outputs": [
    {
     "data": {
      "text/html": [
       "<div>\n",
       "<style scoped>\n",
       "    .dataframe tbody tr th:only-of-type {\n",
       "        vertical-align: middle;\n",
       "    }\n",
       "\n",
       "    .dataframe tbody tr th {\n",
       "        vertical-align: top;\n",
       "    }\n",
       "\n",
       "    .dataframe thead th {\n",
       "        text-align: right;\n",
       "    }\n",
       "</style>\n",
       "<table border=\"1\" class=\"dataframe\">\n",
       "  <thead>\n",
       "    <tr style=\"text-align: right;\">\n",
       "      <th></th>\n",
       "      <th>age</th>\n",
       "      <th>sex</th>\n",
       "      <th>bmi</th>\n",
       "      <th>children</th>\n",
       "      <th>smoker</th>\n",
       "      <th>region</th>\n",
       "      <th>charges</th>\n",
       "    </tr>\n",
       "  </thead>\n",
       "  <tbody>\n",
       "    <tr>\n",
       "      <th>0</th>\n",
       "      <td>19</td>\n",
       "      <td>female</td>\n",
       "      <td>27.900</td>\n",
       "      <td>0</td>\n",
       "      <td>yes</td>\n",
       "      <td>southwest</td>\n",
       "      <td>16884.92400</td>\n",
       "    </tr>\n",
       "    <tr>\n",
       "      <th>1</th>\n",
       "      <td>18</td>\n",
       "      <td>male</td>\n",
       "      <td>33.770</td>\n",
       "      <td>1</td>\n",
       "      <td>no</td>\n",
       "      <td>southeast</td>\n",
       "      <td>1725.55230</td>\n",
       "    </tr>\n",
       "    <tr>\n",
       "      <th>2</th>\n",
       "      <td>28</td>\n",
       "      <td>male</td>\n",
       "      <td>33.000</td>\n",
       "      <td>3</td>\n",
       "      <td>no</td>\n",
       "      <td>southeast</td>\n",
       "      <td>4449.46200</td>\n",
       "    </tr>\n",
       "    <tr>\n",
       "      <th>3</th>\n",
       "      <td>33</td>\n",
       "      <td>male</td>\n",
       "      <td>22.705</td>\n",
       "      <td>0</td>\n",
       "      <td>no</td>\n",
       "      <td>northwest</td>\n",
       "      <td>21984.47061</td>\n",
       "    </tr>\n",
       "    <tr>\n",
       "      <th>4</th>\n",
       "      <td>32</td>\n",
       "      <td>male</td>\n",
       "      <td>28.880</td>\n",
       "      <td>0</td>\n",
       "      <td>no</td>\n",
       "      <td>northwest</td>\n",
       "      <td>3866.85520</td>\n",
       "    </tr>\n",
       "  </tbody>\n",
       "</table>\n",
       "</div>"
      ],
      "text/plain": [
       "   age     sex     bmi  children smoker     region      charges\n",
       "0   19  female  27.900         0    yes  southwest  16884.92400\n",
       "1   18    male  33.770         1     no  southeast   1725.55230\n",
       "2   28    male  33.000         3     no  southeast   4449.46200\n",
       "3   33    male  22.705         0     no  northwest  21984.47061\n",
       "4   32    male  28.880         0     no  northwest   3866.85520"
      ]
     },
     "execution_count": 28,
     "metadata": {},
     "output_type": "execute_result"
    }
   ],
   "source": [
    "df.head()"
   ]
  },
  {
   "cell_type": "markdown",
   "id": "adb16d62",
   "metadata": {},
   "source": [
    "# Divide the categorical and numeric columns from dataframe"
   ]
  },
  {
   "cell_type": "code",
   "execution_count": 29,
   "id": "928d2325",
   "metadata": {},
   "outputs": [],
   "source": [
    "df_num = df.select_dtypes([\"int64\", \"float64\"])\n",
    "df_cat = df.select_dtypes(object)"
   ]
  },
  {
   "cell_type": "code",
   "execution_count": 30,
   "id": "b43d6cbc",
   "metadata": {},
   "outputs": [
    {
     "data": {
      "text/html": [
       "<div>\n",
       "<style scoped>\n",
       "    .dataframe tbody tr th:only-of-type {\n",
       "        vertical-align: middle;\n",
       "    }\n",
       "\n",
       "    .dataframe tbody tr th {\n",
       "        vertical-align: top;\n",
       "    }\n",
       "\n",
       "    .dataframe thead th {\n",
       "        text-align: right;\n",
       "    }\n",
       "</style>\n",
       "<table border=\"1\" class=\"dataframe\">\n",
       "  <thead>\n",
       "    <tr style=\"text-align: right;\">\n",
       "      <th></th>\n",
       "      <th>age</th>\n",
       "      <th>bmi</th>\n",
       "      <th>children</th>\n",
       "      <th>charges</th>\n",
       "    </tr>\n",
       "  </thead>\n",
       "  <tbody>\n",
       "    <tr>\n",
       "      <th>0</th>\n",
       "      <td>19</td>\n",
       "      <td>27.900</td>\n",
       "      <td>0</td>\n",
       "      <td>16884.92400</td>\n",
       "    </tr>\n",
       "    <tr>\n",
       "      <th>1</th>\n",
       "      <td>18</td>\n",
       "      <td>33.770</td>\n",
       "      <td>1</td>\n",
       "      <td>1725.55230</td>\n",
       "    </tr>\n",
       "    <tr>\n",
       "      <th>2</th>\n",
       "      <td>28</td>\n",
       "      <td>33.000</td>\n",
       "      <td>3</td>\n",
       "      <td>4449.46200</td>\n",
       "    </tr>\n",
       "    <tr>\n",
       "      <th>3</th>\n",
       "      <td>33</td>\n",
       "      <td>22.705</td>\n",
       "      <td>0</td>\n",
       "      <td>21984.47061</td>\n",
       "    </tr>\n",
       "    <tr>\n",
       "      <th>4</th>\n",
       "      <td>32</td>\n",
       "      <td>28.880</td>\n",
       "      <td>0</td>\n",
       "      <td>3866.85520</td>\n",
       "    </tr>\n",
       "    <tr>\n",
       "      <th>...</th>\n",
       "      <td>...</td>\n",
       "      <td>...</td>\n",
       "      <td>...</td>\n",
       "      <td>...</td>\n",
       "    </tr>\n",
       "    <tr>\n",
       "      <th>1333</th>\n",
       "      <td>50</td>\n",
       "      <td>30.970</td>\n",
       "      <td>3</td>\n",
       "      <td>10600.54830</td>\n",
       "    </tr>\n",
       "    <tr>\n",
       "      <th>1334</th>\n",
       "      <td>18</td>\n",
       "      <td>31.920</td>\n",
       "      <td>0</td>\n",
       "      <td>2205.98080</td>\n",
       "    </tr>\n",
       "    <tr>\n",
       "      <th>1335</th>\n",
       "      <td>18</td>\n",
       "      <td>36.850</td>\n",
       "      <td>0</td>\n",
       "      <td>1629.83350</td>\n",
       "    </tr>\n",
       "    <tr>\n",
       "      <th>1336</th>\n",
       "      <td>21</td>\n",
       "      <td>25.800</td>\n",
       "      <td>0</td>\n",
       "      <td>2007.94500</td>\n",
       "    </tr>\n",
       "    <tr>\n",
       "      <th>1337</th>\n",
       "      <td>61</td>\n",
       "      <td>29.070</td>\n",
       "      <td>0</td>\n",
       "      <td>29141.36030</td>\n",
       "    </tr>\n",
       "  </tbody>\n",
       "</table>\n",
       "<p>1323 rows × 4 columns</p>\n",
       "</div>"
      ],
      "text/plain": [
       "      age     bmi  children      charges\n",
       "0      19  27.900         0  16884.92400\n",
       "1      18  33.770         1   1725.55230\n",
       "2      28  33.000         3   4449.46200\n",
       "3      33  22.705         0  21984.47061\n",
       "4      32  28.880         0   3866.85520\n",
       "...   ...     ...       ...          ...\n",
       "1333   50  30.970         3  10600.54830\n",
       "1334   18  31.920         0   2205.98080\n",
       "1335   18  36.850         0   1629.83350\n",
       "1336   21  25.800         0   2007.94500\n",
       "1337   61  29.070         0  29141.36030\n",
       "\n",
       "[1323 rows x 4 columns]"
      ]
     },
     "execution_count": 30,
     "metadata": {},
     "output_type": "execute_result"
    }
   ],
   "source": [
    "df_num"
   ]
  },
  {
   "cell_type": "code",
   "execution_count": 31,
   "id": "56c6bf72",
   "metadata": {},
   "outputs": [
    {
     "data": {
      "text/html": [
       "<div>\n",
       "<style scoped>\n",
       "    .dataframe tbody tr th:only-of-type {\n",
       "        vertical-align: middle;\n",
       "    }\n",
       "\n",
       "    .dataframe tbody tr th {\n",
       "        vertical-align: top;\n",
       "    }\n",
       "\n",
       "    .dataframe thead th {\n",
       "        text-align: right;\n",
       "    }\n",
       "</style>\n",
       "<table border=\"1\" class=\"dataframe\">\n",
       "  <thead>\n",
       "    <tr style=\"text-align: right;\">\n",
       "      <th></th>\n",
       "      <th>sex</th>\n",
       "      <th>smoker</th>\n",
       "      <th>region</th>\n",
       "    </tr>\n",
       "  </thead>\n",
       "  <tbody>\n",
       "    <tr>\n",
       "      <th>0</th>\n",
       "      <td>female</td>\n",
       "      <td>yes</td>\n",
       "      <td>southwest</td>\n",
       "    </tr>\n",
       "    <tr>\n",
       "      <th>1</th>\n",
       "      <td>male</td>\n",
       "      <td>no</td>\n",
       "      <td>southeast</td>\n",
       "    </tr>\n",
       "    <tr>\n",
       "      <th>2</th>\n",
       "      <td>male</td>\n",
       "      <td>no</td>\n",
       "      <td>southeast</td>\n",
       "    </tr>\n",
       "    <tr>\n",
       "      <th>3</th>\n",
       "      <td>male</td>\n",
       "      <td>no</td>\n",
       "      <td>northwest</td>\n",
       "    </tr>\n",
       "    <tr>\n",
       "      <th>4</th>\n",
       "      <td>male</td>\n",
       "      <td>no</td>\n",
       "      <td>northwest</td>\n",
       "    </tr>\n",
       "    <tr>\n",
       "      <th>...</th>\n",
       "      <td>...</td>\n",
       "      <td>...</td>\n",
       "      <td>...</td>\n",
       "    </tr>\n",
       "    <tr>\n",
       "      <th>1333</th>\n",
       "      <td>male</td>\n",
       "      <td>no</td>\n",
       "      <td>northwest</td>\n",
       "    </tr>\n",
       "    <tr>\n",
       "      <th>1334</th>\n",
       "      <td>female</td>\n",
       "      <td>no</td>\n",
       "      <td>northeast</td>\n",
       "    </tr>\n",
       "    <tr>\n",
       "      <th>1335</th>\n",
       "      <td>female</td>\n",
       "      <td>no</td>\n",
       "      <td>southeast</td>\n",
       "    </tr>\n",
       "    <tr>\n",
       "      <th>1336</th>\n",
       "      <td>female</td>\n",
       "      <td>no</td>\n",
       "      <td>southwest</td>\n",
       "    </tr>\n",
       "    <tr>\n",
       "      <th>1337</th>\n",
       "      <td>female</td>\n",
       "      <td>yes</td>\n",
       "      <td>northwest</td>\n",
       "    </tr>\n",
       "  </tbody>\n",
       "</table>\n",
       "<p>1323 rows × 3 columns</p>\n",
       "</div>"
      ],
      "text/plain": [
       "         sex smoker     region\n",
       "0     female    yes  southwest\n",
       "1       male     no  southeast\n",
       "2       male     no  southeast\n",
       "3       male     no  northwest\n",
       "4       male     no  northwest\n",
       "...      ...    ...        ...\n",
       "1333    male     no  northwest\n",
       "1334  female     no  northeast\n",
       "1335  female     no  southeast\n",
       "1336  female     no  southwest\n",
       "1337  female    yes  northwest\n",
       "\n",
       "[1323 rows x 3 columns]"
      ]
     },
     "execution_count": 31,
     "metadata": {},
     "output_type": "execute_result"
    }
   ],
   "source": [
    "df_cat"
   ]
  },
  {
   "cell_type": "markdown",
   "id": "bed8f05f",
   "metadata": {},
   "source": [
    "# Encoding for Cateogorical columns with labelEncoder"
   ]
  },
  {
   "cell_type": "code",
   "execution_count": 32,
   "id": "1646c056",
   "metadata": {},
   "outputs": [],
   "source": [
    "from sklearn.preprocessing import LabelEncoder"
   ]
  },
  {
   "cell_type": "code",
   "execution_count": 33,
   "id": "172500db",
   "metadata": {},
   "outputs": [],
   "source": [
    "for col in df_cat:\n",
    "    le = LabelEncoder()\n",
    "    df_cat[col] = le.fit_transform(df[col])"
   ]
  },
  {
   "cell_type": "markdown",
   "id": "3114c5c1",
   "metadata": {},
   "source": [
    "# Merge the catogorical and numeric columns"
   ]
  },
  {
   "cell_type": "code",
   "execution_count": 34,
   "id": "857e54cc",
   "metadata": {},
   "outputs": [],
   "source": [
    "df = pd.concat([df_cat,df_num], axis=1)"
   ]
  },
  {
   "cell_type": "code",
   "execution_count": 35,
   "id": "261d3f9d",
   "metadata": {},
   "outputs": [
    {
     "data": {
      "text/html": [
       "<div>\n",
       "<style scoped>\n",
       "    .dataframe tbody tr th:only-of-type {\n",
       "        vertical-align: middle;\n",
       "    }\n",
       "\n",
       "    .dataframe tbody tr th {\n",
       "        vertical-align: top;\n",
       "    }\n",
       "\n",
       "    .dataframe thead th {\n",
       "        text-align: right;\n",
       "    }\n",
       "</style>\n",
       "<table border=\"1\" class=\"dataframe\">\n",
       "  <thead>\n",
       "    <tr style=\"text-align: right;\">\n",
       "      <th></th>\n",
       "      <th>sex</th>\n",
       "      <th>smoker</th>\n",
       "      <th>region</th>\n",
       "      <th>age</th>\n",
       "      <th>bmi</th>\n",
       "      <th>children</th>\n",
       "      <th>charges</th>\n",
       "    </tr>\n",
       "  </thead>\n",
       "  <tbody>\n",
       "    <tr>\n",
       "      <th>0</th>\n",
       "      <td>0</td>\n",
       "      <td>1</td>\n",
       "      <td>3</td>\n",
       "      <td>19</td>\n",
       "      <td>27.900</td>\n",
       "      <td>0</td>\n",
       "      <td>16884.92400</td>\n",
       "    </tr>\n",
       "    <tr>\n",
       "      <th>1</th>\n",
       "      <td>1</td>\n",
       "      <td>0</td>\n",
       "      <td>2</td>\n",
       "      <td>18</td>\n",
       "      <td>33.770</td>\n",
       "      <td>1</td>\n",
       "      <td>1725.55230</td>\n",
       "    </tr>\n",
       "    <tr>\n",
       "      <th>2</th>\n",
       "      <td>1</td>\n",
       "      <td>0</td>\n",
       "      <td>2</td>\n",
       "      <td>28</td>\n",
       "      <td>33.000</td>\n",
       "      <td>3</td>\n",
       "      <td>4449.46200</td>\n",
       "    </tr>\n",
       "    <tr>\n",
       "      <th>3</th>\n",
       "      <td>1</td>\n",
       "      <td>0</td>\n",
       "      <td>1</td>\n",
       "      <td>33</td>\n",
       "      <td>22.705</td>\n",
       "      <td>0</td>\n",
       "      <td>21984.47061</td>\n",
       "    </tr>\n",
       "    <tr>\n",
       "      <th>4</th>\n",
       "      <td>1</td>\n",
       "      <td>0</td>\n",
       "      <td>1</td>\n",
       "      <td>32</td>\n",
       "      <td>28.880</td>\n",
       "      <td>0</td>\n",
       "      <td>3866.85520</td>\n",
       "    </tr>\n",
       "  </tbody>\n",
       "</table>\n",
       "</div>"
      ],
      "text/plain": [
       "   sex  smoker  region  age     bmi  children      charges\n",
       "0    0       1       3   19  27.900         0  16884.92400\n",
       "1    1       0       2   18  33.770         1   1725.55230\n",
       "2    1       0       2   28  33.000         3   4449.46200\n",
       "3    1       0       1   33  22.705         0  21984.47061\n",
       "4    1       0       1   32  28.880         0   3866.85520"
      ]
     },
     "execution_count": 35,
     "metadata": {},
     "output_type": "execute_result"
    }
   ],
   "source": [
    "df.head()"
   ]
  },
  {
   "cell_type": "markdown",
   "id": "fcfe2e70",
   "metadata": {},
   "source": [
    "# Separate X and Y"
   ]
  },
  {
   "cell_type": "code",
   "execution_count": 36,
   "id": "3070e05a",
   "metadata": {},
   "outputs": [],
   "source": [
    "x= df.iloc[:,:-1]\n",
    "y= df.iloc[:,-1]"
   ]
  },
  {
   "cell_type": "markdown",
   "id": "fc99e589",
   "metadata": {},
   "source": [
    "# Scaling with StandardScaler"
   ]
  },
  {
   "cell_type": "code",
   "execution_count": 37,
   "id": "9c02626e",
   "metadata": {},
   "outputs": [],
   "source": [
    "from sklearn.preprocessing import StandardScaler"
   ]
  },
  {
   "cell_type": "code",
   "execution_count": 38,
   "id": "acb8f5ea",
   "metadata": {},
   "outputs": [],
   "source": [
    "for col in x:\n",
    "    sc = StandardScaler()\n",
    "    x[col]= sc.fit_transform(x[[col]])"
   ]
  },
  {
   "cell_type": "markdown",
   "id": "8057c225",
   "metadata": {},
   "source": [
    "# Split the data into Train and Test"
   ]
  },
  {
   "cell_type": "code",
   "execution_count": 39,
   "id": "1f1b8768",
   "metadata": {},
   "outputs": [],
   "source": [
    "\n",
    "xtrain,xtest,ytrain,ytest = train_test_split(x,y,test_size=0.25,random_state=0)"
   ]
  },
  {
   "cell_type": "markdown",
   "id": "59750e19",
   "metadata": {},
   "source": [
    "# Model Building"
   ]
  },
  {
   "cell_type": "code",
   "execution_count": 40,
   "id": "4766e24a",
   "metadata": {},
   "outputs": [],
   "source": [
    "def mymodel(model):\n",
    "    model.fit(xtrain,ytrain)\n",
    "    ypred = model.predict(xtest)\n",
    "    \n",
    "    print(f\"MAE - : {mae(ytest,ypred)}\\nMSE- : {mse(ytest,ypred)}\\nRMSE- : {np.sqrt(mse(ytest,ypred))}\\nAccuracy -: {r2_score(ytest,ypred)}\\n\\n\")"
   ]
  },
  {
   "cell_type": "markdown",
   "id": "8ca92c3e",
   "metadata": {},
   "source": [
    "# Evaluation from models"
   ]
  },
  {
   "cell_type": "code",
   "execution_count": 41,
   "id": "ec182926",
   "metadata": {},
   "outputs": [
    {
     "name": "stdout",
     "output_type": "stream",
     "text": [
      "LinReg             :- \n",
      "MAE - : 4607.444982908057\n",
      "MSE- : 44179300.65796681\n",
      "RMSE- : 6646.751135552377\n",
      "Accuracy -: 0.7086530331533469\n",
      "\n",
      "\n",
      "DT                 :- \n",
      "MAE - : 3329.0251715709974\n",
      "MSE- : 47180552.39329213\n",
      "RMSE- : 6868.810114808251\n",
      "Accuracy -: 0.688860832353251\n",
      "\n",
      "\n",
      "RF                 :- \n",
      "MAE - : 2711.855861432145\n",
      "MSE- : 26319655.042057198\n",
      "RMSE- : 5130.268515590309\n",
      "Accuracy -: 0.8264311215716178\n",
      "\n",
      "\n"
     ]
    }
   ],
   "source": [
    "models = []\n",
    "models.append((\"LinReg             :- \",LinearRegression()))\n",
    "\n",
    "models.append((\"DT                 :- \",DecisionTreeRegressor()))\n",
    "\n",
    "models.append((\"RF                 :- \",RandomForestRegressor()))\n",
    "\n",
    "\n",
    "for name,model in models:\n",
    "    print(name)\n",
    "    mymodel(model)"
   ]
  },
  {
   "cell_type": "markdown",
   "id": "b061892b",
   "metadata": {},
   "source": [
    "# Hyperparameter Tunning for DecisionTree"
   ]
  },
  {
   "cell_type": "code",
   "execution_count": 42,
   "id": "bca8235b",
   "metadata": {},
   "outputs": [],
   "source": [
    "from sklearn.model_selection import GridSearchCV"
   ]
  },
  {
   "cell_type": "code",
   "execution_count": 43,
   "id": "7c0aac70",
   "metadata": {},
   "outputs": [],
   "source": [
    "para = {\"max_depth\":[5,10,15],\"min_samples_leaf\":[5,10,15,20]}"
   ]
  },
  {
   "cell_type": "code",
   "execution_count": 44,
   "id": "39f6fb17",
   "metadata": {},
   "outputs": [],
   "source": [
    "dt = DecisionTreeRegressor()"
   ]
  },
  {
   "cell_type": "code",
   "execution_count": 45,
   "id": "32f00b8f",
   "metadata": {},
   "outputs": [
    {
     "name": "stdout",
     "output_type": "stream",
     "text": [
      "Fitting 5 folds for each of 12 candidates, totalling 60 fits\n",
      "[CV 1/5] END ...max_depth=5, min_samples_leaf=5;, score=0.852 total time=   0.0s\n",
      "[CV 2/5] END ...max_depth=5, min_samples_leaf=5;, score=0.811 total time=   0.0s\n",
      "[CV 3/5] END ...max_depth=5, min_samples_leaf=5;, score=0.832 total time=   0.0s\n",
      "[CV 4/5] END ...max_depth=5, min_samples_leaf=5;, score=0.879 total time=   0.0s\n",
      "[CV 5/5] END ...max_depth=5, min_samples_leaf=5;, score=0.882 total time=   0.0s\n",
      "[CV 1/5] END ..max_depth=5, min_samples_leaf=10;, score=0.853 total time=   0.0s\n",
      "[CV 2/5] END ..max_depth=5, min_samples_leaf=10;, score=0.811 total time=   0.0s\n",
      "[CV 3/5] END ..max_depth=5, min_samples_leaf=10;, score=0.838 total time=   0.0s\n",
      "[CV 4/5] END ..max_depth=5, min_samples_leaf=10;, score=0.882 total time=   0.0s\n",
      "[CV 5/5] END ..max_depth=5, min_samples_leaf=10;, score=0.887 total time=   0.0s\n",
      "[CV 1/5] END ..max_depth=5, min_samples_leaf=15;, score=0.851 total time=   0.0s\n",
      "[CV 2/5] END ..max_depth=5, min_samples_leaf=15;, score=0.817 total time=   0.0s\n",
      "[CV 3/5] END ..max_depth=5, min_samples_leaf=15;, score=0.837 total time=   0.0s\n",
      "[CV 4/5] END ..max_depth=5, min_samples_leaf=15;, score=0.887 total time=   0.0s\n",
      "[CV 5/5] END ..max_depth=5, min_samples_leaf=15;, score=0.889 total time=   0.0s\n",
      "[CV 1/5] END ..max_depth=5, min_samples_leaf=20;, score=0.853 total time=   0.0s\n",
      "[CV 2/5] END ..max_depth=5, min_samples_leaf=20;, score=0.818 total time=   0.0s\n",
      "[CV 3/5] END ..max_depth=5, min_samples_leaf=20;, score=0.836 total time=   0.0s\n",
      "[CV 4/5] END ..max_depth=5, min_samples_leaf=20;, score=0.886 total time=   0.0s\n",
      "[CV 5/5] END ..max_depth=5, min_samples_leaf=20;, score=0.887 total time=   0.0s\n",
      "[CV 1/5] END ..max_depth=10, min_samples_leaf=5;, score=0.803 total time=   0.0s\n",
      "[CV 2/5] END ..max_depth=10, min_samples_leaf=5;, score=0.802 total time=   0.0s\n",
      "[CV 3/5] END ..max_depth=10, min_samples_leaf=5;, score=0.822 total time=   0.0s\n",
      "[CV 4/5] END ..max_depth=10, min_samples_leaf=5;, score=0.848 total time=   0.0s\n",
      "[CV 5/5] END ..max_depth=10, min_samples_leaf=5;, score=0.846 total time=   0.0s\n",
      "[CV 1/5] END .max_depth=10, min_samples_leaf=10;, score=0.845 total time=   0.0s\n",
      "[CV 2/5] END .max_depth=10, min_samples_leaf=10;, score=0.795 total time=   0.0s\n",
      "[CV 3/5] END .max_depth=10, min_samples_leaf=10;, score=0.829 total time=   0.0s\n",
      "[CV 4/5] END .max_depth=10, min_samples_leaf=10;, score=0.867 total time=   0.0s\n",
      "[CV 5/5] END .max_depth=10, min_samples_leaf=10;, score=0.880 total time=   0.0s\n",
      "[CV 1/5] END .max_depth=10, min_samples_leaf=15;, score=0.852 total time=   0.0s\n",
      "[CV 2/5] END .max_depth=10, min_samples_leaf=15;, score=0.816 total time=   0.0s\n",
      "[CV 3/5] END .max_depth=10, min_samples_leaf=15;, score=0.830 total time=   0.0s\n",
      "[CV 4/5] END .max_depth=10, min_samples_leaf=15;, score=0.885 total time=   0.0s\n",
      "[CV 5/5] END .max_depth=10, min_samples_leaf=15;, score=0.888 total time=   0.0s\n",
      "[CV 1/5] END .max_depth=10, min_samples_leaf=20;, score=0.857 total time=   0.0s\n",
      "[CV 2/5] END .max_depth=10, min_samples_leaf=20;, score=0.817 total time=   0.0s\n",
      "[CV 3/5] END .max_depth=10, min_samples_leaf=20;, score=0.830 total time=   0.0s\n",
      "[CV 4/5] END .max_depth=10, min_samples_leaf=20;, score=0.884 total time=   0.0s\n",
      "[CV 5/5] END .max_depth=10, min_samples_leaf=20;, score=0.887 total time=   0.0s\n",
      "[CV 1/5] END ..max_depth=15, min_samples_leaf=5;, score=0.803 total time=   0.0s\n",
      "[CV 2/5] END ..max_depth=15, min_samples_leaf=5;, score=0.800 total time=   0.0s\n",
      "[CV 3/5] END ..max_depth=15, min_samples_leaf=5;, score=0.816 total time=   0.0s\n",
      "[CV 4/5] END ..max_depth=15, min_samples_leaf=5;, score=0.848 total time=   0.0s\n",
      "[CV 5/5] END ..max_depth=15, min_samples_leaf=5;, score=0.845 total time=   0.0s\n",
      "[CV 1/5] END .max_depth=15, min_samples_leaf=10;, score=0.845 total time=   0.0s\n",
      "[CV 2/5] END .max_depth=15, min_samples_leaf=10;, score=0.795 total time=   0.0s\n",
      "[CV 3/5] END .max_depth=15, min_samples_leaf=10;, score=0.829 total time=   0.0s\n",
      "[CV 4/5] END .max_depth=15, min_samples_leaf=10;, score=0.867 total time=   0.0s\n",
      "[CV 5/5] END .max_depth=15, min_samples_leaf=10;, score=0.880 total time=   0.0s\n",
      "[CV 1/5] END .max_depth=15, min_samples_leaf=15;, score=0.852 total time=   0.0s\n",
      "[CV 2/5] END .max_depth=15, min_samples_leaf=15;, score=0.816 total time=   0.0s\n",
      "[CV 3/5] END .max_depth=15, min_samples_leaf=15;, score=0.830 total time=   0.0s\n",
      "[CV 4/5] END .max_depth=15, min_samples_leaf=15;, score=0.885 total time=   0.0s\n",
      "[CV 5/5] END .max_depth=15, min_samples_leaf=15;, score=0.888 total time=   0.0s\n",
      "[CV 1/5] END .max_depth=15, min_samples_leaf=20;, score=0.857 total time=   0.0s\n",
      "[CV 2/5] END .max_depth=15, min_samples_leaf=20;, score=0.817 total time=   0.0s\n",
      "[CV 3/5] END .max_depth=15, min_samples_leaf=20;, score=0.830 total time=   0.0s\n",
      "[CV 4/5] END .max_depth=15, min_samples_leaf=20;, score=0.884 total time=   0.0s\n",
      "[CV 5/5] END .max_depth=15, min_samples_leaf=20;, score=0.887 total time=   0.0s\n"
     ]
    }
   ],
   "source": [
    "grid= GridSearchCV(dt,para,refit=True,verbose=3)\n",
    "grid.fit(xtrain,ytrain)\n",
    "ypred= grid.predict(xtest)"
   ]
  },
  {
   "cell_type": "code",
   "execution_count": null,
   "id": "b4c3d77c",
   "metadata": {},
   "outputs": [],
   "source": []
  },
  {
   "cell_type": "code",
   "execution_count": 46,
   "id": "d52fdf8a",
   "metadata": {},
   "outputs": [
    {
     "data": {
      "text/plain": [
       "{'max_depth': 5, 'min_samples_leaf': 15}"
      ]
     },
     "execution_count": 46,
     "metadata": {},
     "output_type": "execute_result"
    }
   ],
   "source": [
    "grid.best_params_"
   ]
  },
  {
   "cell_type": "code",
   "execution_count": 47,
   "id": "cbee7f36",
   "metadata": {},
   "outputs": [],
   "source": [
    "dt= DecisionTreeRegressor(max_depth= 5, min_samples_leaf= 15)\n",
    "dt.fit(xtrain,ytrain)\n",
    "ypred = dt.predict(xtest)"
   ]
  },
  {
   "cell_type": "code",
   "execution_count": 48,
   "id": "f4abc4aa",
   "metadata": {},
   "outputs": [
    {
     "name": "stdout",
     "output_type": "stream",
     "text": [
      "0.8386316843542045\n"
     ]
    }
   ],
   "source": [
    "print(r2_score(ytest,ypred))"
   ]
  },
  {
   "cell_type": "markdown",
   "id": "1886e128",
   "metadata": {},
   "source": [
    "# Hyperparameter Tunning for RandomForest"
   ]
  },
  {
   "cell_type": "code",
   "execution_count": 49,
   "id": "7b7d55b6",
   "metadata": {},
   "outputs": [],
   "source": [
    "rf = RandomForestRegressor()"
   ]
  },
  {
   "cell_type": "code",
   "execution_count": 50,
   "id": "5e464649",
   "metadata": {},
   "outputs": [],
   "source": [
    "parar = {\"max_depth\":[5,10,15],\"min_samples_leaf\":[5,10,15,20],\"max_samples\":[50,100]}"
   ]
  },
  {
   "cell_type": "code",
   "execution_count": 51,
   "id": "a79f5030",
   "metadata": {},
   "outputs": [
    {
     "name": "stdout",
     "output_type": "stream",
     "text": [
      "Fitting 5 folds for each of 24 candidates, totalling 120 fits\n",
      "[CV 1/5] END max_depth=5, max_samples=50, min_samples_leaf=5;, score=0.793 total time=   0.1s\n",
      "[CV 2/5] END max_depth=5, max_samples=50, min_samples_leaf=5;, score=0.745 total time=   0.1s\n",
      "[CV 3/5] END max_depth=5, max_samples=50, min_samples_leaf=5;, score=0.787 total time=   0.1s\n",
      "[CV 4/5] END max_depth=5, max_samples=50, min_samples_leaf=5;, score=0.766 total time=   0.1s\n",
      "[CV 5/5] END max_depth=5, max_samples=50, min_samples_leaf=5;, score=0.823 total time=   0.1s\n",
      "[CV 1/5] END max_depth=5, max_samples=50, min_samples_leaf=10;, score=0.606 total time=   0.1s\n",
      "[CV 2/5] END max_depth=5, max_samples=50, min_samples_leaf=10;, score=0.557 total time=   0.1s\n",
      "[CV 3/5] END max_depth=5, max_samples=50, min_samples_leaf=10;, score=0.557 total time=   0.1s\n",
      "[CV 4/5] END max_depth=5, max_samples=50, min_samples_leaf=10;, score=0.540 total time=   0.1s\n",
      "[CV 5/5] END max_depth=5, max_samples=50, min_samples_leaf=10;, score=0.538 total time=   0.1s\n",
      "[CV 1/5] END max_depth=5, max_samples=50, min_samples_leaf=15;, score=0.122 total time=   0.1s\n",
      "[CV 2/5] END max_depth=5, max_samples=50, min_samples_leaf=15;, score=0.158 total time=   0.1s\n",
      "[CV 3/5] END max_depth=5, max_samples=50, min_samples_leaf=15;, score=0.135 total time=   0.1s\n",
      "[CV 4/5] END max_depth=5, max_samples=50, min_samples_leaf=15;, score=0.129 total time=   0.0s\n",
      "[CV 5/5] END max_depth=5, max_samples=50, min_samples_leaf=15;, score=0.164 total time=   0.1s\n",
      "[CV 1/5] END max_depth=5, max_samples=50, min_samples_leaf=20;, score=0.084 total time=   0.0s\n",
      "[CV 2/5] END max_depth=5, max_samples=50, min_samples_leaf=20;, score=0.100 total time=   0.1s\n",
      "[CV 3/5] END max_depth=5, max_samples=50, min_samples_leaf=20;, score=0.083 total time=   0.1s\n",
      "[CV 4/5] END max_depth=5, max_samples=50, min_samples_leaf=20;, score=0.100 total time=   0.1s\n",
      "[CV 5/5] END max_depth=5, max_samples=50, min_samples_leaf=20;, score=0.105 total time=   0.1s\n",
      "[CV 1/5] END max_depth=5, max_samples=100, min_samples_leaf=5;, score=0.856 total time=   0.1s\n",
      "[CV 2/5] END max_depth=5, max_samples=100, min_samples_leaf=5;, score=0.816 total time=   0.1s\n",
      "[CV 3/5] END max_depth=5, max_samples=100, min_samples_leaf=5;, score=0.837 total time=   0.1s\n",
      "[CV 4/5] END max_depth=5, max_samples=100, min_samples_leaf=5;, score=0.873 total time=   0.1s\n",
      "[CV 5/5] END max_depth=5, max_samples=100, min_samples_leaf=5;, score=0.886 total time=   0.1s\n",
      "[CV 1/5] END max_depth=5, max_samples=100, min_samples_leaf=10;, score=0.779 total time=   0.1s\n",
      "[CV 2/5] END max_depth=5, max_samples=100, min_samples_leaf=10;, score=0.728 total time=   0.1s\n",
      "[CV 3/5] END max_depth=5, max_samples=100, min_samples_leaf=10;, score=0.778 total time=   0.1s\n",
      "[CV 4/5] END max_depth=5, max_samples=100, min_samples_leaf=10;, score=0.757 total time=   0.1s\n",
      "[CV 5/5] END max_depth=5, max_samples=100, min_samples_leaf=10;, score=0.807 total time=   0.1s\n",
      "[CV 1/5] END max_depth=5, max_samples=100, min_samples_leaf=15;, score=0.712 total time=   0.1s\n",
      "[CV 2/5] END max_depth=5, max_samples=100, min_samples_leaf=15;, score=0.653 total time=   0.1s\n",
      "[CV 3/5] END max_depth=5, max_samples=100, min_samples_leaf=15;, score=0.700 total time=   0.1s\n",
      "[CV 4/5] END max_depth=5, max_samples=100, min_samples_leaf=15;, score=0.699 total time=   0.1s\n",
      "[CV 5/5] END max_depth=5, max_samples=100, min_samples_leaf=15;, score=0.735 total time=   0.1s\n",
      "[CV 1/5] END max_depth=5, max_samples=100, min_samples_leaf=20;, score=0.540 total time=   0.1s\n",
      "[CV 2/5] END max_depth=5, max_samples=100, min_samples_leaf=20;, score=0.503 total time=   0.1s\n",
      "[CV 3/5] END max_depth=5, max_samples=100, min_samples_leaf=20;, score=0.532 total time=   0.1s\n",
      "[CV 4/5] END max_depth=5, max_samples=100, min_samples_leaf=20;, score=0.436 total time=   0.1s\n",
      "[CV 5/5] END max_depth=5, max_samples=100, min_samples_leaf=20;, score=0.453 total time=   0.1s\n",
      "[CV 1/5] END max_depth=10, max_samples=50, min_samples_leaf=5;, score=0.802 total time=   0.1s\n",
      "[CV 2/5] END max_depth=10, max_samples=50, min_samples_leaf=5;, score=0.738 total time=   0.1s\n",
      "[CV 3/5] END max_depth=10, max_samples=50, min_samples_leaf=5;, score=0.781 total time=   0.1s\n",
      "[CV 4/5] END max_depth=10, max_samples=50, min_samples_leaf=5;, score=0.774 total time=   0.1s\n",
      "[CV 5/5] END max_depth=10, max_samples=50, min_samples_leaf=5;, score=0.820 total time=   0.1s\n",
      "[CV 1/5] END max_depth=10, max_samples=50, min_samples_leaf=10;, score=0.600 total time=   0.1s\n",
      "[CV 2/5] END max_depth=10, max_samples=50, min_samples_leaf=10;, score=0.547 total time=   0.1s\n",
      "[CV 3/5] END max_depth=10, max_samples=50, min_samples_leaf=10;, score=0.514 total time=   0.0s\n",
      "[CV 4/5] END max_depth=10, max_samples=50, min_samples_leaf=10;, score=0.488 total time=   0.1s\n",
      "[CV 5/5] END max_depth=10, max_samples=50, min_samples_leaf=10;, score=0.486 total time=   0.0s\n",
      "[CV 1/5] END max_depth=10, max_samples=50, min_samples_leaf=15;, score=0.123 total time=   0.1s\n",
      "[CV 2/5] END max_depth=10, max_samples=50, min_samples_leaf=15;, score=0.164 total time=   0.0s\n",
      "[CV 3/5] END max_depth=10, max_samples=50, min_samples_leaf=15;, score=0.157 total time=   0.1s\n",
      "[CV 4/5] END max_depth=10, max_samples=50, min_samples_leaf=15;, score=0.124 total time=   0.1s\n",
      "[CV 5/5] END max_depth=10, max_samples=50, min_samples_leaf=15;, score=0.167 total time=   0.1s\n",
      "[CV 1/5] END max_depth=10, max_samples=50, min_samples_leaf=20;, score=0.078 total time=   0.0s\n",
      "[CV 2/5] END max_depth=10, max_samples=50, min_samples_leaf=20;, score=0.110 total time=   0.1s\n",
      "[CV 3/5] END max_depth=10, max_samples=50, min_samples_leaf=20;, score=0.071 total time=   0.1s\n",
      "[CV 4/5] END max_depth=10, max_samples=50, min_samples_leaf=20;, score=0.099 total time=   0.1s\n",
      "[CV 5/5] END max_depth=10, max_samples=50, min_samples_leaf=20;, score=0.101 total time=   0.1s\n",
      "[CV 1/5] END max_depth=10, max_samples=100, min_samples_leaf=5;, score=0.855 total time=   0.1s\n",
      "[CV 2/5] END max_depth=10, max_samples=100, min_samples_leaf=5;, score=0.816 total time=   0.1s\n",
      "[CV 3/5] END max_depth=10, max_samples=100, min_samples_leaf=5;, score=0.833 total time=   0.1s\n",
      "[CV 4/5] END max_depth=10, max_samples=100, min_samples_leaf=5;, score=0.876 total time=   0.1s\n",
      "[CV 5/5] END max_depth=10, max_samples=100, min_samples_leaf=5;, score=0.886 total time=   0.1s\n",
      "[CV 1/5] END max_depth=10, max_samples=100, min_samples_leaf=10;, score=0.775 total time=   0.1s\n",
      "[CV 2/5] END max_depth=10, max_samples=100, min_samples_leaf=10;, score=0.741 total time=   0.1s\n",
      "[CV 3/5] END max_depth=10, max_samples=100, min_samples_leaf=10;, score=0.768 total time=   0.1s\n",
      "[CV 4/5] END max_depth=10, max_samples=100, min_samples_leaf=10;, score=0.768 total time=   0.1s\n",
      "[CV 5/5] END max_depth=10, max_samples=100, min_samples_leaf=10;, score=0.794 total time=   0.1s\n",
      "[CV 1/5] END max_depth=10, max_samples=100, min_samples_leaf=15;, score=0.708 total time=   0.1s\n",
      "[CV 2/5] END max_depth=10, max_samples=100, min_samples_leaf=15;, score=0.656 total time=   0.1s\n",
      "[CV 3/5] END max_depth=10, max_samples=100, min_samples_leaf=15;, score=0.703 total time=   0.1s\n",
      "[CV 4/5] END max_depth=10, max_samples=100, min_samples_leaf=15;, score=0.695 total time=   0.1s\n",
      "[CV 5/5] END max_depth=10, max_samples=100, min_samples_leaf=15;, score=0.731 total time=   0.1s\n",
      "[CV 1/5] END max_depth=10, max_samples=100, min_samples_leaf=20;, score=0.533 total time=   0.1s\n",
      "[CV 2/5] END max_depth=10, max_samples=100, min_samples_leaf=20;, score=0.491 total time=   0.1s\n",
      "[CV 3/5] END max_depth=10, max_samples=100, min_samples_leaf=20;, score=0.401 total time=   0.1s\n",
      "[CV 4/5] END max_depth=10, max_samples=100, min_samples_leaf=20;, score=0.433 total time=   0.1s\n",
      "[CV 5/5] END max_depth=10, max_samples=100, min_samples_leaf=20;, score=0.405 total time=   0.1s\n",
      "[CV 1/5] END max_depth=15, max_samples=50, min_samples_leaf=5;, score=0.794 total time=   0.1s\n",
      "[CV 2/5] END max_depth=15, max_samples=50, min_samples_leaf=5;, score=0.740 total time=   0.1s\n",
      "[CV 3/5] END max_depth=15, max_samples=50, min_samples_leaf=5;, score=0.782 total time=   0.1s\n",
      "[CV 4/5] END max_depth=15, max_samples=50, min_samples_leaf=5;, score=0.789 total time=   0.1s\n",
      "[CV 5/5] END max_depth=15, max_samples=50, min_samples_leaf=5;, score=0.817 total time=   0.1s\n",
      "[CV 1/5] END max_depth=15, max_samples=50, min_samples_leaf=10;, score=0.611 total time=   0.1s\n"
     ]
    },
    {
     "name": "stdout",
     "output_type": "stream",
     "text": [
      "[CV 2/5] END max_depth=15, max_samples=50, min_samples_leaf=10;, score=0.508 total time=   0.1s\n",
      "[CV 3/5] END max_depth=15, max_samples=50, min_samples_leaf=10;, score=0.529 total time=   0.0s\n",
      "[CV 4/5] END max_depth=15, max_samples=50, min_samples_leaf=10;, score=0.513 total time=   0.1s\n",
      "[CV 5/5] END max_depth=15, max_samples=50, min_samples_leaf=10;, score=0.513 total time=   0.1s\n",
      "[CV 1/5] END max_depth=15, max_samples=50, min_samples_leaf=15;, score=0.138 total time=   0.1s\n",
      "[CV 2/5] END max_depth=15, max_samples=50, min_samples_leaf=15;, score=0.190 total time=   0.1s\n",
      "[CV 3/5] END max_depth=15, max_samples=50, min_samples_leaf=15;, score=0.138 total time=   0.0s\n",
      "[CV 4/5] END max_depth=15, max_samples=50, min_samples_leaf=15;, score=0.152 total time=   0.1s\n",
      "[CV 5/5] END max_depth=15, max_samples=50, min_samples_leaf=15;, score=0.161 total time=   0.1s\n",
      "[CV 1/5] END max_depth=15, max_samples=50, min_samples_leaf=20;, score=0.082 total time=   0.1s\n",
      "[CV 2/5] END max_depth=15, max_samples=50, min_samples_leaf=20;, score=0.113 total time=   0.1s\n",
      "[CV 3/5] END max_depth=15, max_samples=50, min_samples_leaf=20;, score=0.063 total time=   0.1s\n",
      "[CV 4/5] END max_depth=15, max_samples=50, min_samples_leaf=20;, score=0.087 total time=   0.0s\n",
      "[CV 5/5] END max_depth=15, max_samples=50, min_samples_leaf=20;, score=0.107 total time=   0.1s\n",
      "[CV 1/5] END max_depth=15, max_samples=100, min_samples_leaf=5;, score=0.856 total time=   0.1s\n",
      "[CV 2/5] END max_depth=15, max_samples=100, min_samples_leaf=5;, score=0.816 total time=   0.1s\n",
      "[CV 3/5] END max_depth=15, max_samples=100, min_samples_leaf=5;, score=0.836 total time=   0.1s\n",
      "[CV 4/5] END max_depth=15, max_samples=100, min_samples_leaf=5;, score=0.876 total time=   0.1s\n",
      "[CV 5/5] END max_depth=15, max_samples=100, min_samples_leaf=5;, score=0.885 total time=   0.1s\n",
      "[CV 1/5] END max_depth=15, max_samples=100, min_samples_leaf=10;, score=0.779 total time=   0.1s\n",
      "[CV 2/5] END max_depth=15, max_samples=100, min_samples_leaf=10;, score=0.719 total time=   0.1s\n",
      "[CV 3/5] END max_depth=15, max_samples=100, min_samples_leaf=10;, score=0.763 total time=   0.1s\n",
      "[CV 4/5] END max_depth=15, max_samples=100, min_samples_leaf=10;, score=0.765 total time=   0.1s\n",
      "[CV 5/5] END max_depth=15, max_samples=100, min_samples_leaf=10;, score=0.805 total time=   0.1s\n",
      "[CV 1/5] END max_depth=15, max_samples=100, min_samples_leaf=15;, score=0.707 total time=   0.1s\n",
      "[CV 2/5] END max_depth=15, max_samples=100, min_samples_leaf=15;, score=0.657 total time=   0.1s\n",
      "[CV 3/5] END max_depth=15, max_samples=100, min_samples_leaf=15;, score=0.694 total time=   0.1s\n",
      "[CV 4/5] END max_depth=15, max_samples=100, min_samples_leaf=15;, score=0.699 total time=   0.1s\n",
      "[CV 5/5] END max_depth=15, max_samples=100, min_samples_leaf=15;, score=0.726 total time=   0.1s\n",
      "[CV 1/5] END max_depth=15, max_samples=100, min_samples_leaf=20;, score=0.438 total time=   0.1s\n",
      "[CV 2/5] END max_depth=15, max_samples=100, min_samples_leaf=20;, score=0.505 total time=   0.1s\n",
      "[CV 3/5] END max_depth=15, max_samples=100, min_samples_leaf=20;, score=0.469 total time=   0.1s\n",
      "[CV 4/5] END max_depth=15, max_samples=100, min_samples_leaf=20;, score=0.444 total time=   0.1s\n",
      "[CV 5/5] END max_depth=15, max_samples=100, min_samples_leaf=20;, score=0.336 total time=   0.1s\n"
     ]
    }
   ],
   "source": [
    "gridr= GridSearchCV(rf,parar,refit=True,verbose=3)\n",
    "gridr.fit(xtrain,ytrain)\n",
    "ypred= gridr.predict(xtest)"
   ]
  },
  {
   "cell_type": "code",
   "execution_count": 52,
   "id": "8568f6d6",
   "metadata": {},
   "outputs": [
    {
     "data": {
      "text/plain": [
       "{'max_depth': 5, 'max_samples': 100, 'min_samples_leaf': 5}"
      ]
     },
     "execution_count": 52,
     "metadata": {},
     "output_type": "execute_result"
    }
   ],
   "source": [
    "gridr.best_params_"
   ]
  },
  {
   "cell_type": "code",
   "execution_count": 53,
   "id": "53060d17",
   "metadata": {},
   "outputs": [],
   "source": [
    "rf = RandomForestRegressor(max_depth=5, max_samples=100,min_samples_leaf=5,random_state=1)"
   ]
  },
  {
   "cell_type": "code",
   "execution_count": 54,
   "id": "6e152dbc",
   "metadata": {},
   "outputs": [],
   "source": [
    "rf.fit(xtrain,ytrain)\n",
    "ypred = rf.predict(xtest)"
   ]
  },
  {
   "cell_type": "code",
   "execution_count": 55,
   "id": "aafed598",
   "metadata": {},
   "outputs": [
    {
     "name": "stdout",
     "output_type": "stream",
     "text": [
      "0.8316674966288229\n"
     ]
    }
   ],
   "source": [
    "print(r2_score(ytest,ypred))"
   ]
  },
  {
   "cell_type": "markdown",
   "id": "6dbe0b7c",
   "metadata": {},
   "source": [
    "# Conclusion"
   ]
  },
  {
   "cell_type": "markdown",
   "id": "f1d9805d",
   "metadata": {},
   "source": [
    "Accuracy :\n",
    "- linreg : 70.86 %\n",
    "- dt     : 70.02 %\n",
    "- rf     : 82.69 %\n",
    "\n",
    "Accuracy After Hyperparameter Tunning:\n",
    "\n",
    "- dt     : 83.86 %\n",
    "- rf     : 83.16 %"
   ]
  }
 ],
 "metadata": {
  "kernelspec": {
   "display_name": "Python 3 (ipykernel)",
   "language": "python",
   "name": "python3"
  },
  "language_info": {
   "codemirror_mode": {
    "name": "ipython",
    "version": 3
   },
   "file_extension": ".py",
   "mimetype": "text/x-python",
   "name": "python",
   "nbconvert_exporter": "python",
   "pygments_lexer": "ipython3",
   "version": "3.9.6"
  }
 },
 "nbformat": 4,
 "nbformat_minor": 5
}
